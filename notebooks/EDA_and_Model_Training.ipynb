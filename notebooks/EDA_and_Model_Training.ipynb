{
 "cells": [
  {
   "cell_type": "markdown",
   "id": "671fb29a",
   "metadata": {},
   "source": [
    "## ML Sentiment Analyzer"
   ]
  },
  {
   "cell_type": "markdown",
   "id": "ed0a4b74-dbb8-4487-9266-1f4e44e2da5f",
   "metadata": {},
   "source": [
    "#### Life cycle of Machine learning Project\n",
    "\n",
    "- Understanding the Problem Statement\n",
    "- Data Collection\n",
    "- Data Checks to perform\n",
    "- Model Training"
   ]
  },
  {
   "cell_type": "markdown",
   "id": "d387d58e-22ba-407f-a0a9-fcaa879b0637",
   "metadata": {},
   "source": [
    "### 1) Problem statement\n",
    "- This project performs the sentiment analysis on the given statement.\n",
    "\n",
    "\n",
    "### 2) Data Collection\n",
    "- Dataset Source - https://www.kaggle.com/datasets/atifaliak/youtube-comments-dataset"
   ]
  },
  {
   "cell_type": "markdown",
   "id": "557d7128",
   "metadata": {},
   "source": [
    "### 2.1 Import Data and Required Packages\n",
    "####  Importing EDA Libraries"
   ]
  },
  {
   "cell_type": "code",
   "execution_count": 1,
   "id": "17e1bd37",
   "metadata": {},
   "outputs": [],
   "source": [
    "import pandas as pd"
   ]
  },
  {
   "cell_type": "markdown",
   "id": "3188d428",
   "metadata": {},
   "source": [
    "#### Import the CSV Data as Pandas DataFrame"
   ]
  },
  {
   "cell_type": "code",
   "execution_count": 2,
   "id": "64957253",
   "metadata": {},
   "outputs": [],
   "source": [
    "df = pd.read_csv('raw-data/YoutubeCommentsDataSet.csv')"
   ]
  },
  {
   "cell_type": "markdown",
   "id": "b1a9868f",
   "metadata": {},
   "source": [
    "#### Show Top 5 Records"
   ]
  },
  {
   "cell_type": "code",
   "execution_count": 3,
   "id": "3db57ea8",
   "metadata": {},
   "outputs": [
    {
     "data": {
      "text/html": [
       "<div>\n",
       "<style scoped>\n",
       "    .dataframe tbody tr th:only-of-type {\n",
       "        vertical-align: middle;\n",
       "    }\n",
       "\n",
       "    .dataframe tbody tr th {\n",
       "        vertical-align: top;\n",
       "    }\n",
       "\n",
       "    .dataframe thead th {\n",
       "        text-align: right;\n",
       "    }\n",
       "</style>\n",
       "<table border=\"1\" class=\"dataframe\">\n",
       "  <thead>\n",
       "    <tr style=\"text-align: right;\">\n",
       "      <th></th>\n",
       "      <th>Comment</th>\n",
       "      <th>Sentiment</th>\n",
       "    </tr>\n",
       "  </thead>\n",
       "  <tbody>\n",
       "    <tr>\n",
       "      <th>0</th>\n",
       "      <td>lets not forget that apple pay in 2014 require...</td>\n",
       "      <td>neutral</td>\n",
       "    </tr>\n",
       "    <tr>\n",
       "      <th>1</th>\n",
       "      <td>here in nz 50 of retailers don’t even have con...</td>\n",
       "      <td>negative</td>\n",
       "    </tr>\n",
       "    <tr>\n",
       "      <th>2</th>\n",
       "      <td>i will forever acknowledge this channel with t...</td>\n",
       "      <td>positive</td>\n",
       "    </tr>\n",
       "    <tr>\n",
       "      <th>3</th>\n",
       "      <td>whenever i go to a place that doesn’t take app...</td>\n",
       "      <td>negative</td>\n",
       "    </tr>\n",
       "    <tr>\n",
       "      <th>4</th>\n",
       "      <td>apple pay is so convenient secure and easy to ...</td>\n",
       "      <td>positive</td>\n",
       "    </tr>\n",
       "  </tbody>\n",
       "</table>\n",
       "</div>"
      ],
      "text/plain": [
       "                                             Comment Sentiment\n",
       "0  lets not forget that apple pay in 2014 require...   neutral\n",
       "1  here in nz 50 of retailers don’t even have con...  negative\n",
       "2  i will forever acknowledge this channel with t...  positive\n",
       "3  whenever i go to a place that doesn’t take app...  negative\n",
       "4  apple pay is so convenient secure and easy to ...  positive"
      ]
     },
     "execution_count": 3,
     "metadata": {},
     "output_type": "execute_result"
    }
   ],
   "source": [
    "df.head()"
   ]
  },
  {
   "cell_type": "markdown",
   "id": "d861dc96",
   "metadata": {},
   "source": [
    "#### Shape of the dataset"
   ]
  },
  {
   "cell_type": "code",
   "execution_count": 4,
   "id": "a01a89d4",
   "metadata": {},
   "outputs": [
    {
     "data": {
      "text/plain": [
       "(18408, 2)"
      ]
     },
     "execution_count": 4,
     "metadata": {},
     "output_type": "execute_result"
    }
   ],
   "source": [
    "df.shape"
   ]
  },
  {
   "cell_type": "markdown",
   "id": "0cd0b8a9",
   "metadata": {},
   "source": [
    "### 2.2 Dataset information\n",
    "- Comment : contains comment of users \n",
    "- Sentiment : sentiment of comment -> (negative/positive/neutral)"
   ]
  },
  {
   "cell_type": "markdown",
   "id": "f3c29011",
   "metadata": {},
   "source": [
    "### 3. Data Checks to perform\n",
    "\n",
    "- Check Missing values\n",
    "- Check Duplicates\n",
    "- Check data type\n",
    "- Check the number of unique values of each column\n",
    "- Check statistics of data set"
   ]
  },
  {
   "cell_type": "markdown",
   "id": "17151b32",
   "metadata": {},
   "source": [
    "### 3.1 Check Missing values"
   ]
  },
  {
   "cell_type": "code",
   "execution_count": 5,
   "id": "202eb46a",
   "metadata": {},
   "outputs": [
    {
     "data": {
      "text/plain": [
       "Comment      44\n",
       "Sentiment     0\n",
       "dtype: int64"
      ]
     },
     "execution_count": 5,
     "metadata": {},
     "output_type": "execute_result"
    }
   ],
   "source": [
    "df.isna().sum()"
   ]
  },
  {
   "cell_type": "markdown",
   "id": "95893d0a",
   "metadata": {},
   "source": [
    "#### There are 44 missing values in the data set (comment)"
   ]
  },
  {
   "cell_type": "code",
   "execution_count": 6,
   "id": "572c5155",
   "metadata": {},
   "outputs": [],
   "source": [
    "# Fixing Missing Values\n",
    "# Drop rows where 'Comment' is NaN\n",
    "# This is necessary to ensure that the analysis does not include empty comments\n",
    "# which could skew the results or lead to errors in processing.\n",
    "df = df.dropna(subset=['Comment'])"
   ]
  },
  {
   "cell_type": "code",
   "execution_count": 7,
   "id": "7b0e42b9",
   "metadata": {},
   "outputs": [
    {
     "data": {
      "text/plain": [
       "Comment      0\n",
       "Sentiment    0\n",
       "dtype: int64"
      ]
     },
     "execution_count": 7,
     "metadata": {},
     "output_type": "execute_result"
    }
   ],
   "source": [
    "# verifying if missing values issue is resolved\n",
    "df.isna().sum()"
   ]
  },
  {
   "cell_type": "markdown",
   "id": "6b13917e",
   "metadata": {},
   "source": [
    "### 3.2 Check Duplicates"
   ]
  },
  {
   "cell_type": "code",
   "execution_count": 8,
   "id": "89982d83",
   "metadata": {},
   "outputs": [
    {
     "data": {
      "text/plain": [
       "np.int64(493)"
      ]
     },
     "execution_count": 8,
     "metadata": {},
     "output_type": "execute_result"
    }
   ],
   "source": [
    "df['Comment'].duplicated().sum()"
   ]
  },
  {
   "cell_type": "code",
   "execution_count": 9,
   "id": "bfa0c43c",
   "metadata": {},
   "outputs": [],
   "source": [
    "# Fixing Duplicates\n",
    "# Remove duplicate comments\n",
    "df = df.drop_duplicates(subset=['Comment'])"
   ]
  },
  {
   "cell_type": "code",
   "execution_count": 10,
   "id": "dea49254",
   "metadata": {},
   "outputs": [
    {
     "data": {
      "text/plain": [
       "np.int64(0)"
      ]
     },
     "execution_count": 10,
     "metadata": {},
     "output_type": "execute_result"
    }
   ],
   "source": [
    "# Verifying if duplicates issue is resolved\n",
    "df['Comment'].duplicated().sum()"
   ]
  },
  {
   "cell_type": "markdown",
   "id": "5a06e004",
   "metadata": {},
   "source": [
    "### 3.3 Check data types"
   ]
  },
  {
   "cell_type": "code",
   "execution_count": 11,
   "id": "ba674c1a",
   "metadata": {},
   "outputs": [
    {
     "name": "stdout",
     "output_type": "stream",
     "text": [
      "<class 'pandas.core.frame.DataFrame'>\n",
      "Index: 17871 entries, 0 to 18407\n",
      "Data columns (total 2 columns):\n",
      " #   Column     Non-Null Count  Dtype \n",
      "---  ------     --------------  ----- \n",
      " 0   Comment    17871 non-null  object\n",
      " 1   Sentiment  17871 non-null  object\n",
      "dtypes: object(2)\n",
      "memory usage: 418.9+ KB\n"
     ]
    }
   ],
   "source": [
    "# Check Null and Dtypes\n",
    "df.info()"
   ]
  },
  {
   "cell_type": "markdown",
   "id": "b31d87f2",
   "metadata": {},
   "source": [
    "### 3.4 Checking the number of unique values of each column"
   ]
  },
  {
   "cell_type": "code",
   "execution_count": 12,
   "id": "db7d7a98",
   "metadata": {},
   "outputs": [
    {
     "data": {
      "text/plain": [
       "Comment      17871\n",
       "Sentiment        3\n",
       "dtype: int64"
      ]
     },
     "execution_count": 12,
     "metadata": {},
     "output_type": "execute_result"
    }
   ],
   "source": [
    "df.nunique()"
   ]
  },
  {
   "cell_type": "markdown",
   "id": "f4e790ed",
   "metadata": {},
   "source": [
    "### 3.5 Check statistics of data set"
   ]
  },
  {
   "cell_type": "code",
   "execution_count": 13,
   "id": "57a5dbe7",
   "metadata": {},
   "outputs": [
    {
     "data": {
      "text/html": [
       "<div>\n",
       "<style scoped>\n",
       "    .dataframe tbody tr th:only-of-type {\n",
       "        vertical-align: middle;\n",
       "    }\n",
       "\n",
       "    .dataframe tbody tr th {\n",
       "        vertical-align: top;\n",
       "    }\n",
       "\n",
       "    .dataframe thead th {\n",
       "        text-align: right;\n",
       "    }\n",
       "</style>\n",
       "<table border=\"1\" class=\"dataframe\">\n",
       "  <thead>\n",
       "    <tr style=\"text-align: right;\">\n",
       "      <th></th>\n",
       "      <th>Comment</th>\n",
       "      <th>Sentiment</th>\n",
       "    </tr>\n",
       "  </thead>\n",
       "  <tbody>\n",
       "    <tr>\n",
       "      <th>count</th>\n",
       "      <td>17871</td>\n",
       "      <td>17871</td>\n",
       "    </tr>\n",
       "    <tr>\n",
       "      <th>unique</th>\n",
       "      <td>17871</td>\n",
       "      <td>3</td>\n",
       "    </tr>\n",
       "    <tr>\n",
       "      <th>top</th>\n",
       "      <td>lets not forget that apple pay in 2014 require...</td>\n",
       "      <td>positive</td>\n",
       "    </tr>\n",
       "    <tr>\n",
       "      <th>freq</th>\n",
       "      <td>1</td>\n",
       "      <td>11052</td>\n",
       "    </tr>\n",
       "  </tbody>\n",
       "</table>\n",
       "</div>"
      ],
      "text/plain": [
       "                                                  Comment Sentiment\n",
       "count                                               17871     17871\n",
       "unique                                              17871         3\n",
       "top     lets not forget that apple pay in 2014 require...  positive\n",
       "freq                                                    1     11052"
      ]
     },
     "execution_count": 13,
     "metadata": {},
     "output_type": "execute_result"
    }
   ],
   "source": [
    "df.describe()"
   ]
  },
  {
   "cell_type": "markdown",
   "id": "0b2750d4",
   "metadata": {},
   "source": [
    "### 4. Model Training"
   ]
  },
  {
   "cell_type": "markdown",
   "id": "8707eba9",
   "metadata": {},
   "source": [
    "#### Steps in Model Training\n",
    "- Step 1: Importing required libraries\n",
    "- Step 2: Label Encoding of Sentiment\n",
    "- Step 3: Converting comments in to lowercase\n",
    "- Step 4: Stopword removal from comments\n",
    "- Step 5: Train Test Data Split                                            \n",
    "- Step 6: Vecortization of comments\n",
    "- Step 7: Model Fitting and Model Evaluation\n",
    "- Step 8: Performance Analysis of all models"
   ]
  },
  {
   "cell_type": "code",
   "execution_count": 14,
   "id": "734f286f",
   "metadata": {},
   "outputs": [],
   "source": [
    "# Step 1: Importing required libraries\n",
    "from sklearn.naive_bayes import MultinomialNB\n",
    "from sklearn.svm import SVC\n",
    "from sklearn.linear_model import LogisticRegression\n",
    "from sklearn.neural_network import MLPClassifier\n",
    "from sklearn.model_selection import train_test_split\n",
    "from sklearn.preprocessing import LabelEncoder\n",
    "from sklearn.feature_extraction.text import TfidfVectorizer\n",
    "from nltk.corpus import stopwords\n",
    "from nltk.tokenize import word_tokenize"
   ]
  },
  {
   "cell_type": "code",
   "execution_count": 15,
   "id": "dbe9165c",
   "metadata": {},
   "outputs": [
    {
     "data": {
      "text/html": [
       "<div>\n",
       "<style scoped>\n",
       "    .dataframe tbody tr th:only-of-type {\n",
       "        vertical-align: middle;\n",
       "    }\n",
       "\n",
       "    .dataframe tbody tr th {\n",
       "        vertical-align: top;\n",
       "    }\n",
       "\n",
       "    .dataframe thead th {\n",
       "        text-align: right;\n",
       "    }\n",
       "</style>\n",
       "<table border=\"1\" class=\"dataframe\">\n",
       "  <thead>\n",
       "    <tr style=\"text-align: right;\">\n",
       "      <th></th>\n",
       "      <th>Comment</th>\n",
       "      <th>Sentiment</th>\n",
       "      <th>Encoded_Sentiment</th>\n",
       "    </tr>\n",
       "  </thead>\n",
       "  <tbody>\n",
       "    <tr>\n",
       "      <th>0</th>\n",
       "      <td>lets not forget that apple pay in 2014 require...</td>\n",
       "      <td>neutral</td>\n",
       "      <td>1</td>\n",
       "    </tr>\n",
       "    <tr>\n",
       "      <th>1</th>\n",
       "      <td>here in nz 50 of retailers don’t even have con...</td>\n",
       "      <td>negative</td>\n",
       "      <td>0</td>\n",
       "    </tr>\n",
       "    <tr>\n",
       "      <th>2</th>\n",
       "      <td>i will forever acknowledge this channel with t...</td>\n",
       "      <td>positive</td>\n",
       "      <td>2</td>\n",
       "    </tr>\n",
       "    <tr>\n",
       "      <th>3</th>\n",
       "      <td>whenever i go to a place that doesn’t take app...</td>\n",
       "      <td>negative</td>\n",
       "      <td>0</td>\n",
       "    </tr>\n",
       "    <tr>\n",
       "      <th>4</th>\n",
       "      <td>apple pay is so convenient secure and easy to ...</td>\n",
       "      <td>positive</td>\n",
       "      <td>2</td>\n",
       "    </tr>\n",
       "  </tbody>\n",
       "</table>\n",
       "</div>"
      ],
      "text/plain": [
       "                                             Comment Sentiment  \\\n",
       "0  lets not forget that apple pay in 2014 require...   neutral   \n",
       "1  here in nz 50 of retailers don’t even have con...  negative   \n",
       "2  i will forever acknowledge this channel with t...  positive   \n",
       "3  whenever i go to a place that doesn’t take app...  negative   \n",
       "4  apple pay is so convenient secure and easy to ...  positive   \n",
       "\n",
       "   Encoded_Sentiment  \n",
       "0                  1  \n",
       "1                  0  \n",
       "2                  2  \n",
       "3                  0  \n",
       "4                  2  "
      ]
     },
     "execution_count": 15,
     "metadata": {},
     "output_type": "execute_result"
    }
   ],
   "source": [
    "# Step 2: Label Encoding of Sentiment\n",
    "labelencoder = LabelEncoder()\n",
    "df['Encoded_Sentiment'] = labelencoder.fit_transform(df['Sentiment'])\n",
    "df.head()"
   ]
  },
  {
   "cell_type": "code",
   "execution_count": 16,
   "id": "692d3e33",
   "metadata": {},
   "outputs": [
    {
     "data": {
      "text/html": [
       "<div>\n",
       "<style scoped>\n",
       "    .dataframe tbody tr th:only-of-type {\n",
       "        vertical-align: middle;\n",
       "    }\n",
       "\n",
       "    .dataframe tbody tr th {\n",
       "        vertical-align: top;\n",
       "    }\n",
       "\n",
       "    .dataframe thead th {\n",
       "        text-align: right;\n",
       "    }\n",
       "</style>\n",
       "<table border=\"1\" class=\"dataframe\">\n",
       "  <thead>\n",
       "    <tr style=\"text-align: right;\">\n",
       "      <th></th>\n",
       "      <th>Comment</th>\n",
       "      <th>Sentiment</th>\n",
       "      <th>Encoded_Sentiment</th>\n",
       "      <th>Lower_Comments</th>\n",
       "    </tr>\n",
       "  </thead>\n",
       "  <tbody>\n",
       "    <tr>\n",
       "      <th>0</th>\n",
       "      <td>lets not forget that apple pay in 2014 require...</td>\n",
       "      <td>neutral</td>\n",
       "      <td>1</td>\n",
       "      <td>lets not forget that apple pay in 2014 require...</td>\n",
       "    </tr>\n",
       "    <tr>\n",
       "      <th>1</th>\n",
       "      <td>here in nz 50 of retailers don’t even have con...</td>\n",
       "      <td>negative</td>\n",
       "      <td>0</td>\n",
       "      <td>here in nz 50 of retailers don’t even have con...</td>\n",
       "    </tr>\n",
       "    <tr>\n",
       "      <th>2</th>\n",
       "      <td>i will forever acknowledge this channel with t...</td>\n",
       "      <td>positive</td>\n",
       "      <td>2</td>\n",
       "      <td>i will forever acknowledge this channel with t...</td>\n",
       "    </tr>\n",
       "    <tr>\n",
       "      <th>3</th>\n",
       "      <td>whenever i go to a place that doesn’t take app...</td>\n",
       "      <td>negative</td>\n",
       "      <td>0</td>\n",
       "      <td>whenever i go to a place that doesn’t take app...</td>\n",
       "    </tr>\n",
       "    <tr>\n",
       "      <th>4</th>\n",
       "      <td>apple pay is so convenient secure and easy to ...</td>\n",
       "      <td>positive</td>\n",
       "      <td>2</td>\n",
       "      <td>apple pay is so convenient secure and easy to ...</td>\n",
       "    </tr>\n",
       "  </tbody>\n",
       "</table>\n",
       "</div>"
      ],
      "text/plain": [
       "                                             Comment Sentiment  \\\n",
       "0  lets not forget that apple pay in 2014 require...   neutral   \n",
       "1  here in nz 50 of retailers don’t even have con...  negative   \n",
       "2  i will forever acknowledge this channel with t...  positive   \n",
       "3  whenever i go to a place that doesn’t take app...  negative   \n",
       "4  apple pay is so convenient secure and easy to ...  positive   \n",
       "\n",
       "   Encoded_Sentiment                                     Lower_Comments  \n",
       "0                  1  lets not forget that apple pay in 2014 require...  \n",
       "1                  0  here in nz 50 of retailers don’t even have con...  \n",
       "2                  2  i will forever acknowledge this channel with t...  \n",
       "3                  0  whenever i go to a place that doesn’t take app...  \n",
       "4                  2  apple pay is so convenient secure and easy to ...  "
      ]
     },
     "execution_count": 16,
     "metadata": {},
     "output_type": "execute_result"
    }
   ],
   "source": [
    "# Step 3: Converting comments in to lowercase\n",
    "df['Lower_Comments'] = df['Comment'].str.lower()\n",
    "df.head()"
   ]
  },
  {
   "cell_type": "code",
   "execution_count": 17,
   "id": "5d98ac99",
   "metadata": {},
   "outputs": [
    {
     "data": {
      "text/html": [
       "<div>\n",
       "<style scoped>\n",
       "    .dataframe tbody tr th:only-of-type {\n",
       "        vertical-align: middle;\n",
       "    }\n",
       "\n",
       "    .dataframe tbody tr th {\n",
       "        vertical-align: top;\n",
       "    }\n",
       "\n",
       "    .dataframe thead th {\n",
       "        text-align: right;\n",
       "    }\n",
       "</style>\n",
       "<table border=\"1\" class=\"dataframe\">\n",
       "  <thead>\n",
       "    <tr style=\"text-align: right;\">\n",
       "      <th></th>\n",
       "      <th>Comment</th>\n",
       "      <th>Sentiment</th>\n",
       "      <th>Encoded_Sentiment</th>\n",
       "      <th>Lower_Comments</th>\n",
       "      <th>Comment_No_Stop_Words</th>\n",
       "    </tr>\n",
       "  </thead>\n",
       "  <tbody>\n",
       "    <tr>\n",
       "      <th>0</th>\n",
       "      <td>lets not forget that apple pay in 2014 require...</td>\n",
       "      <td>neutral</td>\n",
       "      <td>1</td>\n",
       "      <td>lets not forget that apple pay in 2014 require...</td>\n",
       "      <td>lets not forget apple pay 2014 required brand ...</td>\n",
       "    </tr>\n",
       "    <tr>\n",
       "      <th>1</th>\n",
       "      <td>here in nz 50 of retailers don’t even have con...</td>\n",
       "      <td>negative</td>\n",
       "      <td>0</td>\n",
       "      <td>here in nz 50 of retailers don’t even have con...</td>\n",
       "      <td>nz 50 retailers don’t even contactless credit ...</td>\n",
       "    </tr>\n",
       "    <tr>\n",
       "      <th>2</th>\n",
       "      <td>i will forever acknowledge this channel with t...</td>\n",
       "      <td>positive</td>\n",
       "      <td>2</td>\n",
       "      <td>i will forever acknowledge this channel with t...</td>\n",
       "      <td>forever acknowledge channel help lessons ideas...</td>\n",
       "    </tr>\n",
       "    <tr>\n",
       "      <th>3</th>\n",
       "      <td>whenever i go to a place that doesn’t take app...</td>\n",
       "      <td>negative</td>\n",
       "      <td>0</td>\n",
       "      <td>whenever i go to a place that doesn’t take app...</td>\n",
       "      <td>whenever go place doesn’t take apple pay doesn...</td>\n",
       "    </tr>\n",
       "    <tr>\n",
       "      <th>4</th>\n",
       "      <td>apple pay is so convenient secure and easy to ...</td>\n",
       "      <td>positive</td>\n",
       "      <td>2</td>\n",
       "      <td>apple pay is so convenient secure and easy to ...</td>\n",
       "      <td>apple pay convenient secure easy use used kore...</td>\n",
       "    </tr>\n",
       "  </tbody>\n",
       "</table>\n",
       "</div>"
      ],
      "text/plain": [
       "                                             Comment Sentiment  \\\n",
       "0  lets not forget that apple pay in 2014 require...   neutral   \n",
       "1  here in nz 50 of retailers don’t even have con...  negative   \n",
       "2  i will forever acknowledge this channel with t...  positive   \n",
       "3  whenever i go to a place that doesn’t take app...  negative   \n",
       "4  apple pay is so convenient secure and easy to ...  positive   \n",
       "\n",
       "   Encoded_Sentiment                                     Lower_Comments  \\\n",
       "0                  1  lets not forget that apple pay in 2014 require...   \n",
       "1                  0  here in nz 50 of retailers don’t even have con...   \n",
       "2                  2  i will forever acknowledge this channel with t...   \n",
       "3                  0  whenever i go to a place that doesn’t take app...   \n",
       "4                  2  apple pay is so convenient secure and easy to ...   \n",
       "\n",
       "                               Comment_No_Stop_Words  \n",
       "0  lets not forget apple pay 2014 required brand ...  \n",
       "1  nz 50 retailers don’t even contactless credit ...  \n",
       "2  forever acknowledge channel help lessons ideas...  \n",
       "3  whenever go place doesn’t take apple pay doesn...  \n",
       "4  apple pay convenient secure easy use used kore...  "
      ]
     },
     "execution_count": 17,
     "metadata": {},
     "output_type": "execute_result"
    }
   ],
   "source": [
    "# Step 4: Stopword removal from comments\n",
    "en_stopwords = stopwords.words('english')\n",
    "en_stopwords.remove('not')\n",
    "df['Comment_No_Stop_Words'] = df['Lower_Comments'].apply(lambda x : ' '.join([word for word in x.split() if word not in (en_stopwords)]))\n",
    "df.head()"
   ]
  },
  {
   "cell_type": "code",
   "execution_count": 18,
   "id": "8d7b1415",
   "metadata": {},
   "outputs": [
    {
     "name": "stdout",
     "output_type": "stream",
     "text": [
      "768                                         praying miners\n",
      "4115     cant use timer black surface black doesnt refl...\n",
      "16503                          beautiful family love movie\n",
      "18094    wow massive learnings thanks wonder wouldn’t m...\n",
      "6146     adam kills puts great journalistic interviewin...\n",
      "                               ...                        \n",
      "11599                                           420 obunga\n",
      "12323    honestly really proud guy hope thrives extraor...\n",
      "5532     besides ai i’m impressed man’s deep knowledge ...\n",
      "876      mister kalo mister dapet 2jt subscriber mister...\n",
      "16240    even 6 months movies released changes slate st...\n",
      "Name: Comment_No_Stop_Words, Length: 14296, dtype: object\n",
      "5000     apple product excited september best iphone ac...\n",
      "2783     1948 understand beginners starting sql opinion...\n",
      "9080     want go pakistan eat food ali really enjoyed p...\n",
      "9849     nick youtuber call peasant camera…and make lau...\n",
      "12403    got 1460 790 math 670 english got duke gf didn...\n",
      "                               ...                        \n",
      "11704    please support channel download buff link comm...\n",
      "6102                                        also 25 august\n",
      "17395    oneneuron lifetime subscription extended onene...\n",
      "2159     said love teach always give great tips things ...\n",
      "4411     imagine quantum particle thing version put sol...\n",
      "Name: Comment_No_Stop_Words, Length: 3575, dtype: object\n",
      "768      1\n",
      "4115     0\n",
      "16503    2\n",
      "18094    2\n",
      "6146     0\n",
      "        ..\n",
      "11599    1\n",
      "12323    2\n",
      "5532     2\n",
      "876      1\n",
      "16240    2\n",
      "Name: Encoded_Sentiment, Length: 14296, dtype: int64\n",
      "768      1\n",
      "4115     0\n",
      "16503    2\n",
      "18094    2\n",
      "6146     0\n",
      "        ..\n",
      "11599    1\n",
      "12323    2\n",
      "5532     2\n",
      "876      1\n",
      "16240    2\n",
      "Name: Encoded_Sentiment, Length: 14296, dtype: int64\n"
     ]
    }
   ],
   "source": [
    "# Step 5: Train Test Split\n",
    "X = df['Comment_No_Stop_Words']\n",
    "y = df['Encoded_Sentiment']\n",
    "X_train, X_test, y_train, y_test = train_test_split(X,y,random_state = 42, test_size=0.2)\n",
    "print(X_train)\n",
    "print(X_test)\n",
    "print(y_train)\n",
    "print(y_train)"
   ]
  },
  {
   "cell_type": "code",
   "execution_count": 19,
   "id": "d76b3154",
   "metadata": {},
   "outputs": [
    {
     "name": "stdout",
     "output_type": "stream",
     "text": [
      "<Compressed Sparse Row sparse matrix of dtype 'float64'\n",
      "\twith 190615 stored elements and shape (14296, 5000)>\n",
      "  Coords\tValues\n",
      "  (0, 3371)\t1.0\n",
      "  (1, 714)\t0.20185779033726656\n",
      "  (1, 4706)\t0.20760884979615354\n",
      "  (1, 4504)\t0.3478466332667741\n",
      "  (1, 547)\t0.5227952595185392\n",
      "  (1, 4318)\t0.33680487913719764\n",
      "  (1, 1323)\t0.2314244691812018\n",
      "  (1, 2571)\t0.2784618669218244\n",
      "  (1, 4610)\t0.23195720524652708\n",
      "  (1, 4714)\t0.22482366167101941\n",
      "  (1, 4863)\t0.27610130878225875\n",
      "  (1, 4347)\t0.31100201738277533\n",
      "  (2, 479)\t0.553878496503601\n",
      "  (2, 1659)\t0.5696734236221519\n",
      "  (2, 2657)\t0.3227387990659535\n",
      "  (2, 2922)\t0.5143252561434181\n",
      "  (3, 4929)\t0.24227335466342909\n",
      "  (3, 2743)\t0.30172023533240355\n",
      "  (3, 4438)\t0.17883951442510812\n",
      "  (3, 4902)\t0.2821723803830592\n",
      "  (3, 4926)\t0.32293726446069626\n",
      "  (3, 2847)\t0.24586721673738954\n",
      "  (3, 1297)\t0.3309048432626663\n",
      "  (3, 2440)\t0.4779054353894054\n",
      "  (3, 4925)\t0.1666904938024464\n",
      "  :\t:\n",
      "  (14292, 2008)\t0.41208507504401287\n",
      "  (14292, 4460)\t0.3769912458919671\n",
      "  (14292, 2134)\t0.44796921617317165\n",
      "  (14292, 3579)\t0.28937203775350195\n",
      "  (14292, 2140)\t0.38823775523681947\n",
      "  (14292, 3472)\t0.5029138514527592\n",
      "  (14293, 1555)\t0.24766224419692986\n",
      "  (14293, 2714)\t0.23799342106154112\n",
      "  (14293, 1186)\t0.3273504308799338\n",
      "  (14293, 2228)\t0.34632411474419555\n",
      "  (14293, 508)\t0.4205820770103757\n",
      "  (14293, 202)\t0.3175034935837588\n",
      "  (14293, 2460)\t0.2902106116770272\n",
      "  (14293, 1573)\t0.312926164064546\n",
      "  (14293, 1997)\t0.4416798750835\n",
      "  (14294, 4274)\t0.2846592452818595\n",
      "  (14294, 2870)\t0.9586287676027474\n",
      "  (14295, 1544)\t0.23726880410061912\n",
      "  (14295, 4204)\t0.2483004394653302\n",
      "  (14295, 3634)\t0.41289315576262964\n",
      "  (14295, 2900)\t0.33559797329789404\n",
      "  (14295, 777)\t0.4268139787287654\n",
      "  (14295, 1696)\t0.3505419265640135\n",
      "  (14295, 3358)\t0.39224410890719463\n",
      "  (14295, 2923)\t0.3742170398509669\n",
      "<Compressed Sparse Row sparse matrix of dtype 'float64'\n",
      "\twith 45190 stored elements and shape (3575, 5000)>\n",
      "  Coords\tValues\n",
      "  (0, 45)\t0.18375195784962833\n",
      "  (0, 210)\t0.49217041909736575\n",
      "  (0, 253)\t0.2116864922892292\n",
      "  (0, 327)\t0.16758124313424005\n",
      "  (0, 509)\t0.24283741230114753\n",
      "  (0, 1169)\t0.2376276953174188\n",
      "  (0, 1577)\t0.1629848527368053\n",
      "  (0, 2343)\t0.35877716887910177\n",
      "  (0, 2592)\t0.24608520954868288\n",
      "  (0, 3422)\t0.1709310702082868\n",
      "  (0, 3435)\t0.1962660904685708\n",
      "  (0, 3789)\t0.4514149970164234\n",
      "  (0, 3901)\t0.21980801631870797\n",
      "  (1, 247)\t0.1674780811316195\n",
      "  (1, 493)\t0.3076786434585465\n",
      "  (1, 735)\t0.2642246508584153\n",
      "  (1, 1933)\t0.1549083771590392\n",
      "  (1, 2189)\t0.2409172684167202\n",
      "  (1, 2417)\t0.18692689525334522\n",
      "  (1, 2495)\t0.24401111790497462\n",
      "  (1, 2576)\t0.1308166333619802\n",
      "  (1, 3096)\t0.1420226837678987\n",
      "  (1, 3105)\t0.27538350806822176\n",
      "  (1, 3425)\t0.22889115729681994\n",
      "  (1, 4151)\t0.29516679761244935\n",
      "  :\t:\n",
      "  (3572, 4276)\t0.1781189582526904\n",
      "  (3572, 4388)\t0.13095917204649343\n",
      "  (3572, 4500)\t0.16593892325567408\n",
      "  (3572, 4706)\t0.23051852984101423\n",
      "  (3572, 4893)\t0.15011158761597634\n",
      "  (3573, 247)\t0.2460605132743757\n",
      "  (3573, 1905)\t0.31590085025950837\n",
      "  (3573, 1969)\t0.22397762326234133\n",
      "  (3573, 2458)\t0.2461456360340569\n",
      "  (3573, 2657)\t0.20222454864096295\n",
      "  (3573, 3785)\t0.3059557595293069\n",
      "  (3573, 4383)\t0.37806646557298784\n",
      "  (3573, 4460)\t0.2861806231354667\n",
      "  (3573, 4514)\t0.36631385081993456\n",
      "  (3573, 4803)\t0.26774231914131785\n",
      "  (3573, 4826)\t0.4045962724478081\n",
      "  (3574, 1103)\t0.29594266329453306\n",
      "  (3574, 2213)\t0.29443466246131456\n",
      "  (3574, 3180)\t0.46941317207266836\n",
      "  (3574, 3505)\t0.2501962636826856\n",
      "  (3574, 3518)\t0.3631393955617327\n",
      "  (3574, 3936)\t0.37730245002986434\n",
      "  (3574, 4072)\t0.32095445751074475\n",
      "  (3574, 4459)\t0.2441666984114398\n",
      "  (3574, 4739)\t0.32545779033646044\n"
     ]
    }
   ],
   "source": [
    "# Step 6: Vecotrizing Features\n",
    "vectorizer = TfidfVectorizer(max_features = 5000)\n",
    "X_train_vec = vectorizer.fit_transform(X_train)\n",
    "X_test_vec = vectorizer.transform(X_test)\n",
    "print(X_train_vec)\n",
    "print(X_test_vec)"
   ]
  },
  {
   "cell_type": "code",
   "execution_count": 20,
   "id": "9c12bc20",
   "metadata": {},
   "outputs": [
    {
     "name": "stdout",
     "output_type": "stream",
     "text": [
      "Logisitc Regression\n",
      "Model Accuracy: \n",
      "74.63%\n",
      "-------------------------\n",
      "Naive Bayes\n",
      "Model Accuracy: \n",
      "67.75%\n",
      "-------------------------\n",
      "Support Vector Machines\n",
      "Model Accuracy: \n",
      "74.52%\n",
      "-------------------------\n",
      "Neural Network\n",
      "Model Accuracy: \n",
      "66.97%\n",
      "-------------------------\n"
     ]
    }
   ],
   "source": [
    "# Step 7: Model Fitting and Model Evaluation\n",
    "models = {\n",
    "    \"Logisitc Regression\": LogisticRegression(),\n",
    "    \"Naive Bayes\": MultinomialNB(),\n",
    "    \"Support Vector Machines\": SVC(kernel='linear', C=1.0),\n",
    "    \"Neural Network\": MLPClassifier(hidden_layer_sizes=5, activation='logistic', max_iter=1000, random_state=42),\n",
    "}\n",
    "\n",
    "accuracy_matrix_dict = {'Models':[], 'Accuracy':[]}\n",
    "\n",
    "for model_name, model in models.items():\n",
    "    \n",
    "    # Train model\n",
    "    model.fit(X_train_vec, y_train) \n",
    "\n",
    "    # Evaluate Model\n",
    "    accuracy = round(model.score(X_test_vec, y_test)*100,2)\n",
    "    accuracy_matrix_dict['Models'].append(model_name)\n",
    "    accuracy_matrix_dict['Accuracy'].append(accuracy)\n",
    "    print(model_name)\n",
    "    print('Model Accuracy: ')\n",
    "    print(str(accuracy) + '%')\n",
    "    print('-'*25)"
   ]
  },
  {
   "cell_type": "code",
   "execution_count": 21,
   "id": "22c1d621",
   "metadata": {},
   "outputs": [
    {
     "data": {
      "text/html": [
       "<div>\n",
       "<style scoped>\n",
       "    .dataframe tbody tr th:only-of-type {\n",
       "        vertical-align: middle;\n",
       "    }\n",
       "\n",
       "    .dataframe tbody tr th {\n",
       "        vertical-align: top;\n",
       "    }\n",
       "\n",
       "    .dataframe thead th {\n",
       "        text-align: right;\n",
       "    }\n",
       "</style>\n",
       "<table border=\"1\" class=\"dataframe\">\n",
       "  <thead>\n",
       "    <tr style=\"text-align: right;\">\n",
       "      <th></th>\n",
       "      <th>Models</th>\n",
       "      <th>Accuracy</th>\n",
       "    </tr>\n",
       "  </thead>\n",
       "  <tbody>\n",
       "    <tr>\n",
       "      <th>0</th>\n",
       "      <td>Logisitc Regression</td>\n",
       "      <td>74.63</td>\n",
       "    </tr>\n",
       "    <tr>\n",
       "      <th>2</th>\n",
       "      <td>Support Vector Machines</td>\n",
       "      <td>74.52</td>\n",
       "    </tr>\n",
       "    <tr>\n",
       "      <th>1</th>\n",
       "      <td>Naive Bayes</td>\n",
       "      <td>67.75</td>\n",
       "    </tr>\n",
       "    <tr>\n",
       "      <th>3</th>\n",
       "      <td>Neural Network</td>\n",
       "      <td>66.97</td>\n",
       "    </tr>\n",
       "  </tbody>\n",
       "</table>\n",
       "</div>"
      ],
      "text/plain": [
       "                    Models  Accuracy\n",
       "0      Logisitc Regression     74.63\n",
       "2  Support Vector Machines     74.52\n",
       "1              Naive Bayes     67.75\n",
       "3           Neural Network     66.97"
      ]
     },
     "execution_count": 21,
     "metadata": {},
     "output_type": "execute_result"
    }
   ],
   "source": [
    "# Step 8: Performance Analysis of all models\n",
    "pd.DataFrame(accuracy_matrix_dict).sort_values(by=[\"Accuracy\"],ascending=False)"
   ]
  }
 ],
 "metadata": {
  "kernelspec": {
   "display_name": "Python 3",
   "language": "python",
   "name": "python3"
  },
  "language_info": {
   "codemirror_mode": {
    "name": "ipython",
    "version": 3
   },
   "file_extension": ".py",
   "mimetype": "text/x-python",
   "name": "python",
   "nbconvert_exporter": "python",
   "pygments_lexer": "ipython3",
   "version": "3.12.0"
  }
 },
 "nbformat": 4,
 "nbformat_minor": 5
}
