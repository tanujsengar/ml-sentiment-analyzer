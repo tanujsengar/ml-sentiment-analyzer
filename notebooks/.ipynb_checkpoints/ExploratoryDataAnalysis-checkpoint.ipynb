{
 "cells": [
  {
   "cell_type": "markdown",
   "id": "671fb29a",
   "metadata": {},
   "source": [
    "# DATA INTRODUCTION"
   ]
  },
  {
   "cell_type": "markdown",
   "id": "ed0a4b74-dbb8-4487-9266-1f4e44e2da5f",
   "metadata": {},
   "source": [
    "## Columns:\n",
    " - Comment: This column contains the comments written on youtube.\n",
    " - Sentiment: This column contains the sentiment of the comment.\n",
    " > Both the columns have categorical data"
   ]
  },
  {
   "cell_type": "markdown",
   "id": "d387d58e-22ba-407f-a0a9-fcaa879b0637",
   "metadata": {},
   "source": [
    "### Feature:\n",
    "Comment"
   ]
  },
  {
   "cell_type": "markdown",
   "id": "7680e476-ac94-4235-85cf-881c0d392a44",
   "metadata": {},
   "source": [
    "### Target:\n",
    "Sentiment"
   ]
  }
 ],
 "metadata": {
  "kernelspec": {
   "display_name": "Python [conda env:venv]",
   "language": "python",
   "name": "conda-env-venv-py"
  },
  "language_info": {
   "codemirror_mode": {
    "name": "ipython",
    "version": 3
   },
   "file_extension": ".py",
   "mimetype": "text/x-python",
   "name": "python",
   "nbconvert_exporter": "python",
   "pygments_lexer": "ipython3",
   "version": "3.12.0"
  }
 },
 "nbformat": 4,
 "nbformat_minor": 5
}
